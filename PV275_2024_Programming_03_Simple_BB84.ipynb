{
 "cells": [
  {
   "cell_type": "markdown",
   "metadata": {},
   "source": [
    "# BB84 Simplified QKD protocol "
   ]
  },
  {
   "cell_type": "markdown",
   "metadata": {},
   "source": [
    "For import we will just need the standard *Qiskit* package with some visualization possibilities and some (classical) package for random numbers generation."
   ]
  },
  {
   "cell_type": "code",
   "execution_count": 1,
   "metadata": {},
   "outputs": [],
   "source": [
    "from qiskit import QuantumCircuit\n",
    "from random import randint\n",
    "from qiskit.visualization import plot_histogram\n",
    "from qiskit_aer import AerSimulator"
   ]
  },
  {
   "cell_type": "markdown",
   "metadata": {},
   "source": [
    "Set the number of runs: in generating the key, we will disregard roughly half of the generated outcomes, so for example if you want a key of length $\\sim 500$ bits, use $\\sim 1000$ runs.\n",
    "\n",
    "We also pick the simulator and prepare registers for storing outcomes: <code>outA</code> for Alice and <code>outB</code> for Bob (we keep them formally separate in order to show that they are spatially separated)."
   ]
  },
  {
   "cell_type": "code",
   "execution_count": 2,
   "metadata": {},
   "outputs": [],
   "source": [
    "runs = 10000\n",
    "simulator = AerSimulator()\n",
    "\n",
    "outA = []\n",
    "outB = []"
   ]
  },
  {
   "cell_type": "markdown",
   "metadata": {},
   "source": [
    "The algorithm is now following.\n",
    "\n",
    "For each run do the following:\n",
    "1. Alice chooses randomly the sent bit $x=0$ or $x=1$ and prepares initial state either $|0\\rangle$ or $|1\\rangle$.\n",
    "2. Alice chooses randomly whether to leave the bit intact ($a=0$) or whether to change it by Hadamard transformation ($a=1$).\n",
    "3. Based on her choices she prepared one of the states $\\{|0\\rangle,|1\\rangle,|+\\rangle,|-\\rangle\\}$, which she sends to Bob (over large distance to Galaxy far far away...).\n",
    "4. Bob receives the sent state and chooses randomly whether to leave it as is ($b=0$) or whether to apply Hadamard transformation on it ($b=1$) without being aware of Alice's choice.\n",
    "5. Finally Bob performs a measurement and obtains bit $y$."
   ]
  },
  {
   "cell_type": "code",
   "execution_count": 3,
   "metadata": {},
   "outputs": [],
   "source": [
    "for i in range(runs):\n",
    "    x = randint(0, 1)  # Alice's bit\n",
    "    a = randint(0, 1)  # Alice's choice of transformation\n",
    "    b = randint(0, 1)  # Bob's choice of transformation\n",
    "    \n",
    "    # In each run we create separate circuit corresponding to choices a and b of Alice and Bob\n",
    "    circuit = QuantumCircuit(1, 1)\n",
    "    \n",
    "    # Alice prepares corresponding quantum state to her choice x\n",
    "    if x:\n",
    "        circuit.x(0)\n",
    "    \n",
    "    # Alice uses Hadamard transformation based on her random choice a\n",
    "    if a:\n",
    "        circuit.h(0)\n",
    "    \n",
    "    # Alice stores her choices\n",
    "    outA += [(a, x)]\n",
    "    \n",
    "    # Prepared state is sent to Bob\n",
    "    # Barrier is just a visual aid to show Alice's and Bob's separation\n",
    "    circuit.barrier()\n",
    "    \n",
    "    # Bob uses Hadamard transformation based on his random choice b\n",
    "    if b: \n",
    "        circuit.h(0)\n",
    "        \n",
    "    # Finally, bob performs measurement\n",
    "    circuit.measure(0,0)\n",
    "    \n",
    "    # We need only a single output stored in dictionary m\n",
    "    # from which we extract bit y.\n",
    "    m = simulator.run(circuit, shots=1).result().get_counts()\n",
    "    y = (int)(list(m.keys())[0])\n",
    "    \n",
    "    # Bob stores his choice and outcome y\n",
    "    outB += [(b, y)]\n",
    "    "
   ]
  },
  {
   "cell_type": "markdown",
   "metadata": {},
   "source": [
    "We can peek at least at the last instance of the circuit."
   ]
  },
  {
   "cell_type": "code",
   "execution_count": 4,
   "metadata": {},
   "outputs": [
    {
     "data": {
      "image/png": "[encoded data removed]",
      "text/plain": [
       "<Figure size 352.675x200.667 with 1 Axes>"
      ]
     },
     "execution_count": 4,
     "metadata": {},
     "output_type": "execute_result"
    }
   ],
   "source": [
    "circuit.draw(output=\"mpl\")"
   ]
  },
  {
   "cell_type": "markdown",
   "metadata": {},
   "source": [
    "Now Alice and Bob by an authenticated channel compare only their choices $a$ and $b$ in respective runs and based on this information keep only those bits $x$ and $y$ for which $a=b$."
   ]
  },
  {
   "cell_type": "code",
   "execution_count": 5,
   "metadata": {},
   "outputs": [],
   "source": [
    "# Publicly shared information of ALice and Bob\n",
    "publicA = [x[0] for x in outA]\n",
    "publicB = [y[0] for y in outB]\n",
    "\n",
    "# Locally stored keys obtained from public information\n",
    "keyA = []\n",
    "keyB = []\n",
    "\n",
    "for i in range(runs):\n",
    "    if publicA[i] == publicB[i]:\n",
    "        keyA += [outA[i][1]]\n",
    "        keyB += [outB[i][1]]"
   ]
  },
  {
   "cell_type": "markdown",
   "metadata": {},
   "source": [
    "Alice and Bob have their separate keys <code>keyA</code> and <code>keyB</code>. Let us check whether these are the same:"
   ]
  },
  {
   "cell_type": "code",
   "execution_count": 6,
   "metadata": {},
   "outputs": [
    {
     "data": {
      "text/plain": [
       "True"
      ]
     },
     "execution_count": 6,
     "metadata": {},
     "output_type": "execute_result"
    }
   ],
   "source": [
    "keyA == keyB"
   ]
  },
  {
   "cell_type": "markdown",
   "metadata": {},
   "source": [
    "The length of the key is"
   ]
  },
  {
   "cell_type": "code",
   "execution_count": 7,
   "metadata": {},
   "outputs": [
    {
     "name": "stdout",
     "output_type": "stream",
     "text": [
      "5022\n"
     ]
    }
   ],
   "source": [
    "print(len(keyA))"
   ]
  },
  {
   "cell_type": "markdown",
   "metadata": {},
   "source": [
    "Let us have a look at the statistic a bit."
   ]
  },
  {
   "cell_type": "code",
   "execution_count": 8,
   "metadata": {},
   "outputs": [],
   "source": [
    "counts = {}\n",
    "out = [(outA[i][0], outB[i][0], outA[i][1], outB[i][1]) for i in range(runs)]\n",
    "for x in out:\n",
    "    counts[x] = counts.get(x, 0) + 1"
   ]
  },
  {
   "cell_type": "code",
   "execution_count": 9,
   "metadata": {},
   "outputs": [
    {
     "data": {
      "image/png": "[encoded data removed]",
      "text/plain": [
       "<Figure size 640x480 with 1 Axes>"
      ]
     },
     "execution_count": 9,
     "metadata": {},
     "output_type": "execute_result"
    }
   ],
   "source": [
    "plot_histogram(counts)"
   ]
  },
  {
   "cell_type": "markdown",
   "metadata": {},
   "source": [
    "The tuples in the chart are ordered $(a,b,x,y)$ and so we see that if $a=b$ (first two columns and last two columns) the obtained bits are also the same, $x=y$, but if $a\\neq b$, all possible bit combinations for $x$ and $y$ are (roughly) equally possible."
   ]
  },
  {
   "cell_type": "markdown",
   "metadata": {},
   "source": [
    "If we look at the cases where Alice's and Bob's bases coincide, i.e. when $a=b$ we indeed have only correlated keys."
   ]
  },
  {
   "cell_type": "code",
   "execution_count": 10,
   "metadata": {},
   "outputs": [
    {
     "name": "stdout",
     "output_type": "stream",
     "text": [
      "{(0, 0): 2523, (0, 1): 0, (1, 0): 0, (1, 1): 2499}\n"
     ]
    }
   ],
   "source": [
    "eq_out = {(0, 0): 0, (0, 1): 0, (1, 0): 0, (1, 1): 0}\n",
    "for x in counts:\n",
    "    if x[0] == x[1]:\n",
    "        eq_out[x[2:]] += counts[x]\n",
    "print(eq_out)"
   ]
  },
  {
   "cell_type": "code",
   "execution_count": 11,
   "metadata": {},
   "outputs": [
    {
     "data": {
      "image/png": "[encoded data removed]",
      "text/plain": [
       "<Figure size 640x480 with 1 Axes>"
      ]
     },
     "execution_count": 11,
     "metadata": {},
     "output_type": "execute_result"
    }
   ],
   "source": [
    "plot_histogram(eq_out)"
   ]
  },
  {
   "cell_type": "markdown",
   "metadata": {},
   "source": [
    "We see that the procedure provides both Alice and Bob with key that is:\n",
    "- random (Alice's choices $x$ were random)\n",
    "- shared between Alice and Bob\n",
    "- known only to them (we will see later why and how)"
   ]
  },
  {
   "cell_type": "markdown",
   "metadata": {},
   "source": [
    "## How does it work?"
   ]
  },
  {
   "cell_type": "markdown",
   "metadata": {},
   "source": [
    "There are eight possibilities of what is happening, which we show in the table below:\n",
    "\n",
    "| **x** | **a** | **b** | Alice's state | State after Alice changes it | State after Bob changes it | $P(y=\\mathbf{0}|x,a,b)$ | $P(y=\\mathbf{1}|x,a,b)$ |\n",
    "|---|---|---|---|---|---|---|---|\n",
    "| 0 | 0 | 0 | $|0\\rangle$ | $|0\\rangle$ | $|0\\rangle$ | $1/8$ | $0$ |\n",
    "| 0 | 0 | 1 | $|0\\rangle$ | $|0\\rangle$ | $|+\\rangle$ | $1/16$ | $1/16$ |\n",
    "| 0 | 1 | 0 | $|0\\rangle$ | $|+\\rangle$ | $|+\\rangle$ | $1/16$ | $1/16$ |\n",
    "| 0 | 1 | 1 | $|0\\rangle$ | $|+\\rangle$ | $|0\\rangle$ | $1/8$ | $0$ |\n",
    "| 1 | 0 | 0 | $|1\\rangle$ | $|1\\rangle$ | $|1\\rangle$ | $0$ | $1/8$ |\n",
    "| 1 | 0 | 1 | $|1\\rangle$ | $|1\\rangle$ | $|-\\rangle$ | $1/16$ | $1/16$ |\n",
    "| 1 | 1 | 0 | $|1\\rangle$ | $|-\\rangle$ | $|-\\rangle$ | $1/16$ | $1/16$ |\n",
    "| 1 | 1 | 1 | $|1\\rangle$ | $|-\\rangle$ | $|1\\rangle$ | $0$ | $1/8$ |"
   ]
  },
  {
   "cell_type": "markdown",
   "metadata": {},
   "source": [
    "We see that if $a=b$ both Alice and Bob apply Hadamard transformation, which effectively does not change the state ($H^2=\\mathbb{1}$), and, indeed they have to have $x=y$. If $a\\neq b$ we find that the resulting state on Bob's side is $|\\pm\\rangle$, which, when measured in standard basis gives zeros and ones randomly."
   ]
  },
  {
   "cell_type": "markdown",
   "metadata": {},
   "source": [
    "## What about Eve?"
   ]
  },
  {
   "cell_type": "markdown",
   "metadata": {},
   "source": [
    "If there is an eavesdropper Eve, what she can do is to do the same thing that Bob would do - choose a basis using a bit $e$ and measure. Whatever she measures is also her best guess on what state Alice sent, so she sends it to Bob."
   ]
  },
  {
   "cell_type": "code",
   "execution_count": 12,
   "metadata": {},
   "outputs": [],
   "source": [
    "outA = []\n",
    "outB = []\n",
    "outE = []"
   ]
  },
  {
   "cell_type": "code",
   "execution_count": 13,
   "metadata": {},
   "outputs": [],
   "source": [
    "for i in range(runs):\n",
    "    x = randint(0, 1)  # Alice's bit\n",
    "    a = randint(0, 1)  # Alice's choice of transformation\n",
    "    b = randint(0, 1)  # Bob's choice of transformation\n",
    "    e = randint(0, 1)  # Eve's choice of transformation / measurement\n",
    "    \n",
    "    # In each run we create separate circuit corresponding to choices a and b of Alice and Bob\n",
    "    # Now we have two classical registers, one for Bob's measurement and the second one for Eve's\n",
    "    circuit = QuantumCircuit(1,2)\n",
    "    \n",
    "    # Alice prepares corresponding quantum state to her choice x\n",
    "    if x:\n",
    "        circuit.x(0)\n",
    "    \n",
    "    # Alice uses Hadamard transformation based on her random choice a\n",
    "    if a:\n",
    "        circuit.h(0)\n",
    "    \n",
    "    # Alice stores her choices\n",
    "    outA += [(a,x)]\n",
    "    \n",
    "    # Prepared state is sent to Bob but first intercepted by Eve\n",
    "    # Barrier is just a visual aid to show Alice's and Bob's separation\n",
    "    circuit.barrier()\n",
    "    \n",
    "    # Eve uses Hadamard transformation based on her random choice e\n",
    "    if e:\n",
    "        circuit.h(0)\n",
    "    \n",
    "    # Then Eve measures to see the outcome\n",
    "    circuit.measure(0,1)\n",
    "    \n",
    "    # After Eve's measurement, the state becomes |0> or |1> based on what she measured\n",
    "    # This is also Eve's best guess on what the state could be\n",
    "    # Therefore she prepares it for Bob:\n",
    "    #    - if e == 0, she does not change it, as it already is |0> or |1>\n",
    "    #    - if e == 1, she changes it to |+>, |-> basis\n",
    "    if e:\n",
    "        circuit.h(0)\n",
    "\n",
    "    # The state is now sent to Bob\n",
    "    circuit.barrier()\n",
    "    \n",
    "    # Bob uses Hadamard transformation based on his random choice b\n",
    "    if b: \n",
    "        circuit.h(0)\n",
    "        \n",
    "    # Finally, bob performs measurement\n",
    "    circuit.measure(0,0)\n",
    "    \n",
    "    # We need only a single output stored in dictionary m\n",
    "    # from which we extract bits y (Bob's) and z (Eve's).\n",
    "    m = simulator.run(circuit, shots=1).result().get_counts()\n",
    "    y = (int)(list(m.keys())[0][0])\n",
    "    z = (int)(list(m.keys())[0][1])\n",
    "    \n",
    "    # Bob stores his choice and outcome y\n",
    "    outB += [(b, y)]\n",
    "    \n",
    "    # Eve stores her choice and outcome z\n",
    "    outE += [(e, z)]\n",
    "    "
   ]
  },
  {
   "cell_type": "markdown",
   "metadata": {},
   "source": [
    "This is what situation looks like in the last case. The barriers divide the actions of Alice, Eve and Bob respectively. Note, that if Eve decides to measure in $\\{|{\\pm}\\rangle\\}$ basis, her procedure is to turn the basis into standard one by using $H$. After measurement if she measured 0, the state after measurement is $|0\\rangle$ but it corresponds to $|+\\rangle$ and so she has to apply $H$ again. The same holds in the case she measured 1."
   ]
  },
  {
   "cell_type": "code",
   "execution_count": 14,
   "metadata": {},
   "outputs": [
    {
     "data": {
      "image/png": "[encoded data removed]",
      "text/plain": [
       "<Figure size 603.508x200.667 with 1 Axes>"
      ]
     },
     "execution_count": 14,
     "metadata": {},
     "output_type": "execute_result"
    }
   ],
   "source": [
    "circuit.draw(output=\"mpl\")"
   ]
  },
  {
   "cell_type": "markdown",
   "metadata": {},
   "source": [
    "Let us just count the results for Alice and Bob only."
   ]
  },
  {
   "cell_type": "code",
   "execution_count": 15,
   "metadata": {},
   "outputs": [],
   "source": [
    "counts_wE = {} # counts with Eve present\n",
    "out_wE = [(outA[i][0], outB[i][0], outA[i][1], outB[i][1]) for i in range(runs)]\n",
    "for x in out_wE:\n",
    "    counts_wE[x] = counts_wE.get(x, 0) + 1"
   ]
  },
  {
   "cell_type": "markdown",
   "metadata": {},
   "source": [
    "We observe few more different outcomes in contrast to the ideal case.\n",
    "\n",
    "In the cases of our interest, where $a=b$, we find that the keys are no longer the same. In roughly $1/4$ of the cases they observe the effect of Eve's interference."
   ]
  },
  {
   "cell_type": "code",
   "execution_count": 16,
   "metadata": {},
   "outputs": [
    {
     "name": "stdout",
     "output_type": "stream",
     "text": [
      "{(0, 0): 1840, (0, 1): 600, (1, 0): 670, (1, 1): 1888}\n"
     ]
    }
   ],
   "source": [
    "eq_out_wE = {(0, 0): 0, (0, 1): 0, (1, 0): 0, (1, 1): 0}\n",
    "for x in counts_wE:\n",
    "    if x[0] == x[1]:\n",
    "        eq_out_wE[x[2:]] += counts_wE[x]\n",
    "print(eq_out_wE)"
   ]
  },
  {
   "cell_type": "code",
   "execution_count": 17,
   "metadata": {},
   "outputs": [
    {
     "data": {
      "image/png": "[encoded data removed]",
      "text/plain": [
       "<Figure size 640x480 with 1 Axes>"
      ]
     },
     "execution_count": 17,
     "metadata": {},
     "output_type": "execute_result"
    }
   ],
   "source": [
    "plot_histogram([eq_out_wE, eq_out], legend=[\"with Eve present\", \"no Eve\"])"
   ]
  },
  {
   "cell_type": "markdown",
   "metadata": {},
   "source": [
    "We indeed see similar probabilities to the expected ones: $P(0,0)=P(1,1)=3/8=0.375$ and $P(0,1)=P(1,0)=1/8=0.125$."
   ]
  },
  {
   "cell_type": "markdown",
   "metadata": {},
   "source": [
    "Let us formally continue in the process of key establishment, when Alice and Bob publicly, through an authenticated channel compare their choices of the bases. If Eve can perfectly eavesdrop on this channel, she can also try to reconstruct key on her side by selecting only the bits where Alice's and Bob's choices of basis were the same."
   ]
  },
  {
   "cell_type": "code",
   "execution_count": 18,
   "metadata": {},
   "outputs": [],
   "source": [
    "# Publicly shared information of ALice and Bob\n",
    "publicA = [x[0] for x in outA]\n",
    "publicB = [y[0] for y in outB]\n",
    "\n",
    "# Locally stored keys obtained from public information\n",
    "keyA = []\n",
    "keyB = []\n",
    "keyE = []\n",
    "\n",
    "for i in range(runs):\n",
    "    if publicA[i] == publicB[i]:\n",
    "        keyA += [outA[i][1]]\n",
    "        keyB += [outB[i][1]]\n",
    "        keyE += [outE[i][1]]"
   ]
  },
  {
   "cell_type": "markdown",
   "metadata": {},
   "source": [
    "We can now construct a correlator function which will tell us in how many % compared keys are the same."
   ]
  },
  {
   "cell_type": "code",
   "execution_count": 19,
   "metadata": {},
   "outputs": [],
   "source": [
    "def correlation(x, y):\n",
    "    size = len(x)\n",
    "    count = 0\n",
    "    for j in range(size):\n",
    "        if x[j] == y[j]:\n",
    "            count += 1\n",
    "    return count / size"
   ]
  },
  {
   "cell_type": "markdown",
   "metadata": {},
   "source": [
    "Comparing keys of Alice and Bob we see that thay agree in only 75% of instances."
   ]
  },
  {
   "cell_type": "code",
   "execution_count": 20,
   "metadata": {},
   "outputs": [
    {
     "name": "stdout",
     "output_type": "stream",
     "text": [
      "Alice's and Bob's keys agree in 74.6% bits\n"
     ]
    }
   ],
   "source": [
    "print(\"Alice's and Bob's keys agree in {:.1f}% bits\".format(100*correlation(keyA, keyB)))"
   ]
  },
  {
   "cell_type": "markdown",
   "metadata": {},
   "source": [
    "Comparing Alice's or Bob's keys with Eve's key we see similar correlation."
   ]
  },
  {
   "cell_type": "code",
   "execution_count": 21,
   "metadata": {},
   "outputs": [
    {
     "name": "stdout",
     "output_type": "stream",
     "text": [
      "Alice's and Eve's keys agree in 75.5% bits\n",
      "Bob's and Eve's keys agree in 74.0% bits\n"
     ]
    }
   ],
   "source": [
    "print(\"Alice's and Eve's keys agree in {:.1f}% bits\".format(100*correlation(keyA, keyE)))\n",
    "print(\"Bob's and Eve's keys agree in {:.1f}% bits\".format(100*correlation(keyB, keyE)))"
   ]
  },
  {
   "cell_type": "markdown",
   "metadata": {},
   "source": [
    "## Why is it so?"
   ]
  },
  {
   "cell_type": "markdown",
   "metadata": {},
   "source": [
    "The possibilities of what is happening in cases when $a=b$ are displayed in the table below:\n",
    "| **x** | **a = b** | **e** | **State sent by Alice** | **z (Eve's measured bit)** | **State Eve forwards to Bob** | **State after Bob changes it** | $P(y=\\mathbf{0}|x,a,b)$ | $P(y=\\mathbf{1}|x,a,b)$ |\n",
    "|---|---|---|---|---|---|---|---|---|\n",
    "| 0 | 0 | 0 | $|0\\rangle$ | 0 | $|0\\rangle$ | $|0\\rangle$ | $1/8$ | $0$ |\n",
    "| 0 | 0 | 1 | $|0\\rangle$ | 0 (with probability $1/2$) | $|+\\rangle$ | $|+\\rangle$ | $1/32$ | $1/32$ |\n",
    "| 0 | 0 | 1 | $|0\\rangle$ | 1 (with probability $1/2$) | $|-\\rangle$ | $|-\\rangle$ | $1/32$ | $1/32$ |\n",
    "| 0 | 1 | 0 | $|+\\rangle$ | 0 (with probability $1/2$) | $|0\\rangle$ | $|+\\rangle$ | $1/32$ | $1/32$ |\n",
    "| 0 | 1 | 0 | $|+\\rangle$ | 1 (with probability $1/2$) | $|1\\rangle$ | $|-\\rangle$ | $1/32$ | $1/32$ |\n",
    "| 0 | 1 | 1 | $|+\\rangle$ | 0 | $|+\\rangle$ | $|0\\rangle$ | $1/8$ | $0$ |\n",
    "| 1 | 0 | 0 | $|1\\rangle$ | 1 | $|1\\rangle$ | $|1\\rangle$ | $0$ | $1/8$ |\n",
    "| 1 | 0 | 1 | $|1\\rangle$ | 0 (with probability $1/2$) | $|+\\rangle$ | $|+\\rangle$ | $1/32$ | $1/32$ |\n",
    "| 1 | 0 | 1 | $|1\\rangle$ | 1 (with probability $1/2$) | $|-\\rangle$ | $|-\\rangle$ | $1/32$ | $1/32$ |\n",
    "| 1 | 1 | 0 | $|-\\rangle$ | 0 (with probability $1/2$) | $|0\\rangle$ | $|+\\rangle$ | $1/32$ | $1/32$ |\n",
    "| 1 | 1 | 0 | $|-\\rangle$ | 1 (with probability $1/2$) | $|1\\rangle$ | $|-\\rangle$ | $1/32$ | $1/32$ |\n",
    "| 1 | 1 | 1 | $|-\\rangle$ | 1 | $|-\\rangle$ | $|-\\rangle$ | $0$ | $1/8$ |\n"
   ]
  },
  {
   "cell_type": "markdown",
   "metadata": {},
   "source": [
    "We see that in half of the cases when $a=b$ Eve will guess a wrong basis and Alice and Bob's outcomes will be the same only half of the time, introducing errors in $1/4$ of total cases, which is detectable by Alice and Bob."
   ]
  }
 ],
 "metadata": {
  "kernelspec": {
   "display_name": "Python 3 (ipykernel)",
   "language": "python",
   "name": "python3"
  },
  "language_info": {
   "codemirror_mode": {
    "name": "ipython",
    "version": 3
   },
   "file_extension": ".py",
   "mimetype": "text/x-python",
   "name": "python",
   "nbconvert_exporter": "python",
   "pygments_lexer": "ipython3",
   "version": "3.12.5"
  }
 },
 "nbformat": 4,
 "nbformat_minor": 4
}
